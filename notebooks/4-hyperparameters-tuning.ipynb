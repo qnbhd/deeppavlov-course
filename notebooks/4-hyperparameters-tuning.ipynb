{
 "cells": [
  {
   "cell_type": "code",
   "execution_count": 10,
   "id": "fbe34616-d1e7-4769-9f94-72e4548b3e11",
   "metadata": {},
   "outputs": [],
   "source": [
    "import numpy as np\n",
    "import pandas as pd\n",
    "import spacy\n",
    "from sentence_transformers import SentenceTransformer"
   ]
  },
  {
   "cell_type": "code",
   "execution_count": null,
   "id": "39e9ccb9-c473-4811-b510-7a85ff6ba7f2",
   "metadata": {},
   "outputs": [],
   "source": [
    "!pip install optuna"
   ]
  },
  {
   "cell_type": "code",
   "execution_count": null,
   "id": "83ff29b4-cecf-48c2-94d0-c5ab01fa6d68",
   "metadata": {},
   "outputs": [],
   "source": [
    "import optuna"
   ]
  },
  {
   "cell_type": "code",
   "execution_count": 11,
   "id": "18d0a6bd-b294-42e4-9405-36d50d474da6",
   "metadata": {},
   "outputs": [],
   "source": [
    "train = pd.read_csv('../data/train.csv')\n",
    "test = pd.read_csv('../data/test.csv')"
   ]
  },
  {
   "cell_type": "code",
   "execution_count": 12,
   "id": "a2d8c8d6-e5a1-493d-9a43-af4bad7f4220",
   "metadata": {},
   "outputs": [],
   "source": [
    "train['isHate'] = train['isHate'].astype(int)\n",
    "test['isHate'] = test['isHate'].astype(int)"
   ]
  },
  {
   "cell_type": "code",
   "execution_count": 13,
   "id": "72adc267-b55b-4c4a-bf92-cf2114a526e0",
   "metadata": {},
   "outputs": [],
   "source": [
    "nlp = spacy.load(\"en_core_web_sm\")"
   ]
  },
  {
   "cell_type": "code",
   "execution_count": 14,
   "id": "884be617-209c-4dd7-9779-f90ee156f8de",
   "metadata": {},
   "outputs": [],
   "source": [
    "from sklearn.neighbors import NearestCentroid\n",
    "from sklearn.metrics import roc_auc_score\n",
    "from sklearn.model_selection import cross_val_score\n",
    "from lightgbm import LGBMClassifier"
   ]
  },
  {
   "cell_type": "code",
   "execution_count": 77,
   "id": "c2521736-a7b3-4b23-bc19-90b583466c04",
   "metadata": {},
   "outputs": [],
   "source": [
    "def objective(trial):\n",
    "    # preprocessing\n",
    "    remove_punct = trial.suggest_categorical('remove_punct', [0, 1])\n",
    "    remove_like_num = trial.suggest_categorical('remove_like_num', [0, 1])\n",
    "    remove_like_email = trial.suggest_categorical('remove_like_email', [0, 1])\n",
    "    remove_stop = trial.suggest_categorical('remove_stop', [0, 1])\n",
    "\n",
    "    # sentence-transformers\n",
    "    normalize_embeddings = trial.suggest_categorical('normalize_embeddings', [0, 1])\n",
    "    model_kind = trial.suggest_categorical('model_kind', [\n",
    "        'all-mpnet-base-v2',\n",
    "        'multi-qa-mpnet-base-dot-v1',\n",
    "        'all-distilroberta-v1',\n",
    "        'all-MiniLM-L12-v2',\n",
    "        'multi-qa-distilbert-cos-v1',\n",
    "        'all-MiniLM-L6-v2',\n",
    "        'paraphrase-albert-small-v2',\n",
    "    ])\n",
    "\n",
    "    metric = trial.suggest_categorical('metric', ['manhattan', 'euclidean'])\n",
    "\n",
    "    train_dataframe = train.copy()\n",
    "    \n",
    "    def callee(t):\n",
    "        result = True\n",
    "        result = (result and not t.is_punct) if remove_punct else result\n",
    "        result = (result and not t.like_num) if remove_like_num else result\n",
    "        result = (result and not t.like_email) if remove_like_email else result\n",
    "        result = (result and not t.is_stop) if remove_stop else result\n",
    "        return result\n",
    "\n",
    "    train_dataframe['comment'] = train_dataframe['comment'].apply(\n",
    "        lambda x: ' '.join([\n",
    "            tok.lemma_.lower() for tok in nlp(x) if callee(tok)\n",
    "        ])\n",
    "    )\n",
    "\n",
    "    model = SentenceTransformer(model_kind)\n",
    "    train_embeddings = model.encode(train_dataframe['comment'].values, normalize_embeddings=normalize_embeddings)\n",
    "    \n",
    "    clf = NearestCentroid(metric=metric)\n",
    "    \n",
    "    return cross_val_score(clf, train_embeddings, train_dataframe['isHate'], cv=5).mean()"
   ]
  },
  {
   "cell_type": "code",
   "execution_count": 78,
   "id": "8583eb7e-1703-445a-a6f6-bcba9fefa97d",
   "metadata": {},
   "outputs": [
    {
     "name": "stderr",
     "output_type": "stream",
     "text": [
      "[I 2023-06-06 18:45:20,298] A new study created in memory with name: no-name-54cb0233-1079-43a1-af1d-d85d8fa13ae0\n",
      "[I 2023-06-06 18:45:24,356] Trial 0 finished with value: 0.7092688679245283 and parameters: {'remove_punct': 0, 'remove_like_num': 1, 'remove_like_email': 0, 'remove_stop': 0, 'normalize_embeddings': 1, 'model_kind': 'paraphrase-albert-small-v2', 'metric': 'euclidean'}. Best is trial 0 with value: 0.7092688679245283.\n",
      "[I 2023-06-06 18:45:28,007] Trial 1 finished with value: 0.7155738993710692 and parameters: {'remove_punct': 1, 'remove_like_num': 1, 'remove_like_email': 0, 'remove_stop': 0, 'normalize_embeddings': 1, 'model_kind': 'all-MiniLM-L6-v2', 'metric': 'euclidean'}. Best is trial 1 with value: 0.7155738993710692.\n",
      "[I 2023-06-06 18:45:31,733] Trial 2 finished with value: 0.7368396226415095 and parameters: {'remove_punct': 0, 'remove_like_num': 0, 'remove_like_email': 1, 'remove_stop': 0, 'normalize_embeddings': 0, 'model_kind': 'all-MiniLM-L6-v2', 'metric': 'manhattan'}. Best is trial 2 with value: 0.7368396226415095.\n",
      "[I 2023-06-06 18:45:35,362] Trial 3 finished with value: 0.7193317610062893 and parameters: {'remove_punct': 1, 'remove_like_num': 0, 'remove_like_email': 0, 'remove_stop': 0, 'normalize_embeddings': 1, 'model_kind': 'all-MiniLM-L6-v2', 'metric': 'euclidean'}. Best is trial 2 with value: 0.7368396226415095.\n",
      "[I 2023-06-06 18:45:40,746] Trial 4 finished with value: 0.7205974842767296 and parameters: {'remove_punct': 0, 'remove_like_num': 1, 'remove_like_email': 1, 'remove_stop': 1, 'normalize_embeddings': 0, 'model_kind': 'multi-qa-mpnet-base-dot-v1', 'metric': 'manhattan'}. Best is trial 2 with value: 0.7368396226415095.\n",
      "[I 2023-06-06 18:45:46,099] Trial 5 finished with value: 0.7218317610062892 and parameters: {'remove_punct': 0, 'remove_like_num': 1, 'remove_like_email': 1, 'remove_stop': 1, 'normalize_embeddings': 0, 'model_kind': 'all-mpnet-base-v2', 'metric': 'manhattan'}. Best is trial 2 with value: 0.7368396226415095.\n",
      "[I 2023-06-06 18:45:51,138] Trial 6 finished with value: 0.7305974842767295 and parameters: {'remove_punct': 1, 'remove_like_num': 0, 'remove_like_email': 1, 'remove_stop': 1, 'normalize_embeddings': 1, 'model_kind': 'all-mpnet-base-v2', 'metric': 'manhattan'}. Best is trial 2 with value: 0.7368396226415095.\n",
      "[I 2023-06-06 18:45:54,917] Trial 7 finished with value: 0.7130817610062894 and parameters: {'remove_punct': 0, 'remove_like_num': 0, 'remove_like_email': 0, 'remove_stop': 1, 'normalize_embeddings': 1, 'model_kind': 'all-MiniLM-L6-v2', 'metric': 'euclidean'}. Best is trial 2 with value: 0.7368396226415095.\n",
      "[I 2023-06-06 18:45:59,278] Trial 8 finished with value: 0.713066037735849 and parameters: {'remove_punct': 1, 'remove_like_num': 1, 'remove_like_email': 0, 'remove_stop': 1, 'normalize_embeddings': 1, 'model_kind': 'multi-qa-distilbert-cos-v1', 'metric': 'euclidean'}. Best is trial 2 with value: 0.7368396226415095.\n",
      "[I 2023-06-06 18:46:03,279] Trial 9 finished with value: 0.7092688679245283 and parameters: {'remove_punct': 0, 'remove_like_num': 1, 'remove_like_email': 1, 'remove_stop': 0, 'normalize_embeddings': 1, 'model_kind': 'paraphrase-albert-small-v2', 'metric': 'euclidean'}. Best is trial 2 with value: 0.7368396226415095.\n",
      "[I 2023-06-06 18:46:07,607] Trial 10 finished with value: 0.7055424528301887 and parameters: {'remove_punct': 0, 'remove_like_num': 0, 'remove_like_email': 1, 'remove_stop': 0, 'normalize_embeddings': 0, 'model_kind': 'all-MiniLM-L12-v2', 'metric': 'manhattan'}. Best is trial 2 with value: 0.7368396226415095.\n",
      "[I 2023-06-06 18:46:12,043] Trial 11 finished with value: 0.7481603773584905 and parameters: {'remove_punct': 1, 'remove_like_num': 0, 'remove_like_email': 1, 'remove_stop': 1, 'normalize_embeddings': 0, 'model_kind': 'all-distilroberta-v1', 'metric': 'manhattan'}. Best is trial 11 with value: 0.7481603773584905.\n",
      "[I 2023-06-06 18:46:16,526] Trial 12 finished with value: 0.7481603773584905 and parameters: {'remove_punct': 1, 'remove_like_num': 0, 'remove_like_email': 1, 'remove_stop': 1, 'normalize_embeddings': 0, 'model_kind': 'all-distilroberta-v1', 'metric': 'manhattan'}. Best is trial 11 with value: 0.7481603773584905.\n",
      "[I 2023-06-06 18:46:21,140] Trial 13 finished with value: 0.7481603773584905 and parameters: {'remove_punct': 1, 'remove_like_num': 0, 'remove_like_email': 1, 'remove_stop': 1, 'normalize_embeddings': 0, 'model_kind': 'all-distilroberta-v1', 'metric': 'manhattan'}. Best is trial 11 with value: 0.7481603773584905.\n",
      "[I 2023-06-06 18:46:25,623] Trial 14 finished with value: 0.7481603773584905 and parameters: {'remove_punct': 1, 'remove_like_num': 0, 'remove_like_email': 1, 'remove_stop': 1, 'normalize_embeddings': 0, 'model_kind': 'all-distilroberta-v1', 'metric': 'manhattan'}. Best is trial 11 with value: 0.7481603773584905.\n",
      "[I 2023-06-06 18:46:29,997] Trial 15 finished with value: 0.7481603773584905 and parameters: {'remove_punct': 1, 'remove_like_num': 0, 'remove_like_email': 1, 'remove_stop': 1, 'normalize_embeddings': 0, 'model_kind': 'all-distilroberta-v1', 'metric': 'manhattan'}. Best is trial 11 with value: 0.7481603773584905.\n",
      "[I 2023-06-06 18:46:34,386] Trial 16 finished with value: 0.7481603773584905 and parameters: {'remove_punct': 1, 'remove_like_num': 0, 'remove_like_email': 1, 'remove_stop': 1, 'normalize_embeddings': 0, 'model_kind': 'all-distilroberta-v1', 'metric': 'manhattan'}. Best is trial 11 with value: 0.7481603773584905.\n",
      "[I 2023-06-06 18:46:38,781] Trial 17 finished with value: 0.7481603773584905 and parameters: {'remove_punct': 1, 'remove_like_num': 0, 'remove_like_email': 1, 'remove_stop': 1, 'normalize_embeddings': 0, 'model_kind': 'all-distilroberta-v1', 'metric': 'manhattan'}. Best is trial 11 with value: 0.7481603773584905.\n",
      "[I 2023-06-06 18:46:43,025] Trial 18 finished with value: 0.7205817610062893 and parameters: {'remove_punct': 1, 'remove_like_num': 0, 'remove_like_email': 1, 'remove_stop': 1, 'normalize_embeddings': 0, 'model_kind': 'multi-qa-distilbert-cos-v1', 'metric': 'manhattan'}. Best is trial 11 with value: 0.7481603773584905.\n",
      "[I 2023-06-06 18:46:46,815] Trial 19 finished with value: 0.7080738993710691 and parameters: {'remove_punct': 1, 'remove_like_num': 0, 'remove_like_email': 1, 'remove_stop': 1, 'normalize_embeddings': 0, 'model_kind': 'all-MiniLM-L12-v2', 'metric': 'manhattan'}. Best is trial 11 with value: 0.7481603773584905.\n",
      "[I 2023-06-06 18:46:51,733] Trial 20 finished with value: 0.72687106918239 and parameters: {'remove_punct': 1, 'remove_like_num': 0, 'remove_like_email': 1, 'remove_stop': 1, 'normalize_embeddings': 0, 'model_kind': 'multi-qa-mpnet-base-dot-v1', 'metric': 'manhattan'}. Best is trial 11 with value: 0.7481603773584905.\n",
      "[I 2023-06-06 18:46:56,244] Trial 21 finished with value: 0.7481603773584905 and parameters: {'remove_punct': 1, 'remove_like_num': 0, 'remove_like_email': 1, 'remove_stop': 1, 'normalize_embeddings': 0, 'model_kind': 'all-distilroberta-v1', 'metric': 'manhattan'}. Best is trial 11 with value: 0.7481603773584905.\n",
      "[I 2023-06-06 18:47:00,725] Trial 22 finished with value: 0.7481603773584905 and parameters: {'remove_punct': 1, 'remove_like_num': 0, 'remove_like_email': 1, 'remove_stop': 1, 'normalize_embeddings': 0, 'model_kind': 'all-distilroberta-v1', 'metric': 'manhattan'}. Best is trial 11 with value: 0.7481603773584905.\n",
      "[I 2023-06-06 18:47:05,196] Trial 23 finished with value: 0.7481603773584905 and parameters: {'remove_punct': 1, 'remove_like_num': 0, 'remove_like_email': 1, 'remove_stop': 1, 'normalize_embeddings': 0, 'model_kind': 'all-distilroberta-v1', 'metric': 'manhattan'}. Best is trial 11 with value: 0.7481603773584905.\n",
      "[I 2023-06-06 18:47:09,712] Trial 24 finished with value: 0.7481603773584905 and parameters: {'remove_punct': 1, 'remove_like_num': 0, 'remove_like_email': 1, 'remove_stop': 1, 'normalize_embeddings': 0, 'model_kind': 'all-distilroberta-v1', 'metric': 'manhattan'}. Best is trial 11 with value: 0.7481603773584905.\n",
      "[I 2023-06-06 18:47:14,155] Trial 25 finished with value: 0.7481603773584905 and parameters: {'remove_punct': 1, 'remove_like_num': 0, 'remove_like_email': 1, 'remove_stop': 1, 'normalize_embeddings': 0, 'model_kind': 'all-distilroberta-v1', 'metric': 'manhattan'}. Best is trial 11 with value: 0.7481603773584905.\n",
      "[I 2023-06-06 18:47:18,617] Trial 26 finished with value: 0.7481603773584905 and parameters: {'remove_punct': 1, 'remove_like_num': 0, 'remove_like_email': 0, 'remove_stop': 1, 'normalize_embeddings': 0, 'model_kind': 'all-distilroberta-v1', 'metric': 'manhattan'}. Best is trial 11 with value: 0.7481603773584905.\n",
      "[I 2023-06-06 18:47:23,073] Trial 27 finished with value: 0.7481603773584905 and parameters: {'remove_punct': 1, 'remove_like_num': 0, 'remove_like_email': 1, 'remove_stop': 1, 'normalize_embeddings': 0, 'model_kind': 'all-distilroberta-v1', 'metric': 'manhattan'}. Best is trial 11 with value: 0.7481603773584905.\n",
      "[I 2023-06-06 18:47:27,962] Trial 28 finished with value: 0.7305974842767295 and parameters: {'remove_punct': 1, 'remove_like_num': 0, 'remove_like_email': 1, 'remove_stop': 1, 'normalize_embeddings': 0, 'model_kind': 'all-mpnet-base-v2', 'metric': 'manhattan'}. Best is trial 11 with value: 0.7481603773584905.\n",
      "[I 2023-06-06 18:47:31,862] Trial 29 finished with value: 0.7005110062893081 and parameters: {'remove_punct': 1, 'remove_like_num': 1, 'remove_like_email': 0, 'remove_stop': 0, 'normalize_embeddings': 0, 'model_kind': 'paraphrase-albert-small-v2', 'metric': 'euclidean'}. Best is trial 11 with value: 0.7481603773584905.\n",
      "[I 2023-06-06 18:47:37,054] Trial 30 finished with value: 0.72687106918239 and parameters: {'remove_punct': 1, 'remove_like_num': 0, 'remove_like_email': 1, 'remove_stop': 1, 'normalize_embeddings': 0, 'model_kind': 'multi-qa-mpnet-base-dot-v1', 'metric': 'manhattan'}. Best is trial 11 with value: 0.7481603773584905.\n",
      "[I 2023-06-06 18:47:41,560] Trial 31 finished with value: 0.7481603773584905 and parameters: {'remove_punct': 1, 'remove_like_num': 0, 'remove_like_email': 1, 'remove_stop': 1, 'normalize_embeddings': 0, 'model_kind': 'all-distilroberta-v1', 'metric': 'manhattan'}. Best is trial 11 with value: 0.7481603773584905.\n",
      "[I 2023-06-06 18:47:45,979] Trial 32 finished with value: 0.7481603773584905 and parameters: {'remove_punct': 1, 'remove_like_num': 0, 'remove_like_email': 1, 'remove_stop': 1, 'normalize_embeddings': 0, 'model_kind': 'all-distilroberta-v1', 'metric': 'manhattan'}. Best is trial 11 with value: 0.7481603773584905.\n",
      "[I 2023-06-06 18:47:50,407] Trial 33 finished with value: 0.7481603773584905 and parameters: {'remove_punct': 1, 'remove_like_num': 0, 'remove_like_email': 1, 'remove_stop': 1, 'normalize_embeddings': 0, 'model_kind': 'all-distilroberta-v1', 'metric': 'manhattan'}. Best is trial 11 with value: 0.7481603773584905.\n",
      "[I 2023-06-06 18:47:54,299] Trial 34 finished with value: 0.6954952830188679 and parameters: {'remove_punct': 1, 'remove_like_num': 0, 'remove_like_email': 0, 'remove_stop': 0, 'normalize_embeddings': 1, 'model_kind': 'paraphrase-albert-small-v2', 'metric': 'euclidean'}. Best is trial 11 with value: 0.7481603773584905.\n",
      "[I 2023-06-06 18:47:58,723] Trial 35 finished with value: 0.7230817610062894 and parameters: {'remove_punct': 1, 'remove_like_num': 1, 'remove_like_email': 1, 'remove_stop': 1, 'normalize_embeddings': 0, 'model_kind': 'multi-qa-distilbert-cos-v1', 'metric': 'manhattan'}. Best is trial 11 with value: 0.7481603773584905.\n",
      "[I 2023-06-06 18:48:02,745] Trial 36 finished with value: 0.7055424528301887 and parameters: {'remove_punct': 0, 'remove_like_num': 0, 'remove_like_email': 1, 'remove_stop': 0, 'normalize_embeddings': 0, 'model_kind': 'all-MiniLM-L12-v2', 'metric': 'manhattan'}. Best is trial 11 with value: 0.7481603773584905.\n",
      "[I 2023-06-06 18:48:06,413] Trial 37 finished with value: 0.7293474842767297 and parameters: {'remove_punct': 1, 'remove_like_num': 0, 'remove_like_email': 1, 'remove_stop': 1, 'normalize_embeddings': 0, 'model_kind': 'all-MiniLM-L6-v2', 'metric': 'manhattan'}. Best is trial 11 with value: 0.7481603773584905.\n",
      "[I 2023-06-06 18:48:10,988] Trial 38 finished with value: 0.7243632075471698 and parameters: {'remove_punct': 0, 'remove_like_num': 1, 'remove_like_email': 0, 'remove_stop': 1, 'normalize_embeddings': 1, 'model_kind': 'all-distilroberta-v1', 'metric': 'euclidean'}. Best is trial 11 with value: 0.7481603773584905.\n",
      "[I 2023-06-06 18:48:15,973] Trial 39 finished with value: 0.7305974842767295 and parameters: {'remove_punct': 1, 'remove_like_num': 0, 'remove_like_email': 1, 'remove_stop': 1, 'normalize_embeddings': 0, 'model_kind': 'all-mpnet-base-v2', 'metric': 'manhattan'}. Best is trial 11 with value: 0.7481603773584905.\n",
      "[I 2023-06-06 18:48:20,607] Trial 40 finished with value: 0.7393553459119497 and parameters: {'remove_punct': 1, 'remove_like_num': 1, 'remove_like_email': 1, 'remove_stop': 0, 'normalize_embeddings': 1, 'model_kind': 'all-distilroberta-v1', 'metric': 'manhattan'}. Best is trial 11 with value: 0.7481603773584905.\n",
      "[I 2023-06-06 18:48:25,139] Trial 41 finished with value: 0.7481603773584905 and parameters: {'remove_punct': 1, 'remove_like_num': 0, 'remove_like_email': 1, 'remove_stop': 1, 'normalize_embeddings': 0, 'model_kind': 'all-distilroberta-v1', 'metric': 'manhattan'}. Best is trial 11 with value: 0.7481603773584905.\n",
      "[I 2023-06-06 18:48:29,629] Trial 42 finished with value: 0.7481603773584905 and parameters: {'remove_punct': 1, 'remove_like_num': 0, 'remove_like_email': 1, 'remove_stop': 1, 'normalize_embeddings': 0, 'model_kind': 'all-distilroberta-v1', 'metric': 'manhattan'}. Best is trial 11 with value: 0.7481603773584905.\n",
      "[I 2023-06-06 18:48:33,334] Trial 43 finished with value: 0.7293474842767297 and parameters: {'remove_punct': 1, 'remove_like_num': 0, 'remove_like_email': 1, 'remove_stop': 1, 'normalize_embeddings': 0, 'model_kind': 'all-MiniLM-L6-v2', 'metric': 'manhattan'}. Best is trial 11 with value: 0.7481603773584905.\n",
      "[I 2023-06-06 18:48:37,894] Trial 44 finished with value: 0.7381603773584905 and parameters: {'remove_punct': 0, 'remove_like_num': 0, 'remove_like_email': 1, 'remove_stop': 1, 'normalize_embeddings': 0, 'model_kind': 'all-distilroberta-v1', 'metric': 'manhattan'}. Best is trial 11 with value: 0.7481603773584905.\n",
      "[I 2023-06-06 18:48:43,094] Trial 45 finished with value: 0.7156053459119496 and parameters: {'remove_punct': 1, 'remove_like_num': 0, 'remove_like_email': 1, 'remove_stop': 1, 'normalize_embeddings': 0, 'model_kind': 'multi-qa-mpnet-base-dot-v1', 'metric': 'euclidean'}. Best is trial 11 with value: 0.7481603773584905.\n",
      "[I 2023-06-06 18:48:47,663] Trial 46 finished with value: 0.7481603773584905 and parameters: {'remove_punct': 1, 'remove_like_num': 0, 'remove_like_email': 0, 'remove_stop': 1, 'normalize_embeddings': 1, 'model_kind': 'all-distilroberta-v1', 'metric': 'manhattan'}. Best is trial 11 with value: 0.7481603773584905.\n",
      "[I 2023-06-06 18:48:52,173] Trial 47 finished with value: 0.718003144654088 and parameters: {'remove_punct': 0, 'remove_like_num': 0, 'remove_like_email': 1, 'remove_stop': 1, 'normalize_embeddings': 0, 'model_kind': 'multi-qa-distilbert-cos-v1', 'metric': 'manhattan'}. Best is trial 11 with value: 0.7481603773584905.\n",
      "[I 2023-06-06 18:48:56,727] Trial 48 finished with value: 0.7143081761006289 and parameters: {'remove_punct': 1, 'remove_like_num': 0, 'remove_like_email': 1, 'remove_stop': 0, 'normalize_embeddings': 0, 'model_kind': 'all-MiniLM-L12-v2', 'metric': 'manhattan'}. Best is trial 11 with value: 0.7481603773584905.\n",
      "[I 2023-06-06 18:49:01,493] Trial 49 finished with value: 0.7318867924528302 and parameters: {'remove_punct': 1, 'remove_like_num': 1, 'remove_like_email': 1, 'remove_stop': 1, 'normalize_embeddings': 0, 'model_kind': 'all-distilroberta-v1', 'metric': 'euclidean'}. Best is trial 11 with value: 0.7481603773584905.\n"
     ]
    }
   ],
   "source": [
    "study = optuna.create_study(direction='maximize')\n",
    "study.optimize(objective, n_trials=50, n_jobs=1)"
   ]
  },
  {
   "cell_type": "code",
   "execution_count": null,
   "id": "6795bd1d-5bc4-4183-a2cb-c8d5c6467000",
   "metadata": {},
   "outputs": [],
   "source": [
    "!pip install plotly"
   ]
  },
  {
   "cell_type": "code",
   "execution_count": 2,
   "id": "a17d8329-c6ff-4366-8e55-7ad31c6e0b96",
   "metadata": {},
   "outputs": [],
   "source": [
    "from optuna.visualization import plot_param_importances, plot_parallel_coordinate"
   ]
  },
  {
   "cell_type": "code",
   "execution_count": 6,
   "id": "c27d519c-bc7b-4da1-9f1f-7714ec4cf556",
   "metadata": {},
   "outputs": [],
   "source": [
    "plot_param_importances(study).write_html('importances.html')"
   ]
  },
  {
   "cell_type": "code",
   "execution_count": 7,
   "id": "38688109-f0a2-4a86-b1a9-13ba0fbc2c88",
   "metadata": {},
   "outputs": [],
   "source": [
    "plot_parallel_coordinate(study).write_html('parallel.html')"
   ]
  },
  {
   "cell_type": "code",
   "execution_count": 8,
   "id": "ec504439-3c83-473c-94f2-386e27672d77",
   "metadata": {},
   "outputs": [
    {
     "data": {
      "text/plain": [
       "{'metric': 'manhattan',\n",
       " 'model_kind': 'all-distilroberta-v1',\n",
       " 'normalize_embeddings': 0,\n",
       " 'remove_like_email': 1,\n",
       " 'remove_like_num': 0,\n",
       " 'remove_punct': 1,\n",
       " 'remove_stop': 1}"
      ]
     },
     "execution_count": 8,
     "metadata": {},
     "output_type": "execute_result"
    }
   ],
   "source": [
    "study.best_params"
   ]
  },
  {
   "cell_type": "code",
   "execution_count": 15,
   "id": "65c8baf9-1d71-4516-824d-d2a312ea5086",
   "metadata": {},
   "outputs": [],
   "source": [
    "train['comment'] = train['comment'].apply(\n",
    "    lambda x: ' '.join([\n",
    "        tok.lemma_.lower() for tok in nlp(x)\n",
    "        if not tok.like_email \n",
    "        and not tok.is_punct\n",
    "        and not tok.is_stop\n",
    "    ])\n",
    ")"
   ]
  },
  {
   "cell_type": "code",
   "execution_count": 16,
   "id": "18b617c6-ec72-4e51-9e5e-11a12b33b306",
   "metadata": {},
   "outputs": [],
   "source": [
    "test['comment'] = test['comment'].apply(\n",
    "    lambda x: ' '.join([\n",
    "        tok.lemma_.lower() for tok in nlp(x)\n",
    "        if not tok.like_email \n",
    "        and not tok.is_punct\n",
    "        and not tok.is_stop\n",
    "    ])\n",
    ")"
   ]
  },
  {
   "cell_type": "code",
   "execution_count": 17,
   "id": "01866b9d-5071-437f-89ea-dc9e85677982",
   "metadata": {},
   "outputs": [],
   "source": [
    "model = SentenceTransformer('all-distilroberta-v1')\n",
    "train_embeddings = model.encode(train['comment'].values)\n",
    "test_embeddings = model.encode(test['comment'].values)\n",
    "\n",
    "clf = NearestCentroid(metric='manhattan')"
   ]
  },
  {
   "cell_type": "code",
   "execution_count": 18,
   "id": "eed5940c-39be-48f3-81c9-cfbf00e709ff",
   "metadata": {},
   "outputs": [
    {
     "data": {
      "text/html": [
       "<style>#sk-container-id-1 {color: black;background-color: white;}#sk-container-id-1 pre{padding: 0;}#sk-container-id-1 div.sk-toggleable {background-color: white;}#sk-container-id-1 label.sk-toggleable__label {cursor: pointer;display: block;width: 100%;margin-bottom: 0;padding: 0.3em;box-sizing: border-box;text-align: center;}#sk-container-id-1 label.sk-toggleable__label-arrow:before {content: \"▸\";float: left;margin-right: 0.25em;color: #696969;}#sk-container-id-1 label.sk-toggleable__label-arrow:hover:before {color: black;}#sk-container-id-1 div.sk-estimator:hover label.sk-toggleable__label-arrow:before {color: black;}#sk-container-id-1 div.sk-toggleable__content {max-height: 0;max-width: 0;overflow: hidden;text-align: left;background-color: #f0f8ff;}#sk-container-id-1 div.sk-toggleable__content pre {margin: 0.2em;color: black;border-radius: 0.25em;background-color: #f0f8ff;}#sk-container-id-1 input.sk-toggleable__control:checked~div.sk-toggleable__content {max-height: 200px;max-width: 100%;overflow: auto;}#sk-container-id-1 input.sk-toggleable__control:checked~label.sk-toggleable__label-arrow:before {content: \"▾\";}#sk-container-id-1 div.sk-estimator input.sk-toggleable__control:checked~label.sk-toggleable__label {background-color: #d4ebff;}#sk-container-id-1 div.sk-label input.sk-toggleable__control:checked~label.sk-toggleable__label {background-color: #d4ebff;}#sk-container-id-1 input.sk-hidden--visually {border: 0;clip: rect(1px 1px 1px 1px);clip: rect(1px, 1px, 1px, 1px);height: 1px;margin: -1px;overflow: hidden;padding: 0;position: absolute;width: 1px;}#sk-container-id-1 div.sk-estimator {font-family: monospace;background-color: #f0f8ff;border: 1px dotted black;border-radius: 0.25em;box-sizing: border-box;margin-bottom: 0.5em;}#sk-container-id-1 div.sk-estimator:hover {background-color: #d4ebff;}#sk-container-id-1 div.sk-parallel-item::after {content: \"\";width: 100%;border-bottom: 1px solid gray;flex-grow: 1;}#sk-container-id-1 div.sk-label:hover label.sk-toggleable__label {background-color: #d4ebff;}#sk-container-id-1 div.sk-serial::before {content: \"\";position: absolute;border-left: 1px solid gray;box-sizing: border-box;top: 0;bottom: 0;left: 50%;z-index: 0;}#sk-container-id-1 div.sk-serial {display: flex;flex-direction: column;align-items: center;background-color: white;padding-right: 0.2em;padding-left: 0.2em;position: relative;}#sk-container-id-1 div.sk-item {position: relative;z-index: 1;}#sk-container-id-1 div.sk-parallel {display: flex;align-items: stretch;justify-content: center;background-color: white;position: relative;}#sk-container-id-1 div.sk-item::before, #sk-container-id-1 div.sk-parallel-item::before {content: \"\";position: absolute;border-left: 1px solid gray;box-sizing: border-box;top: 0;bottom: 0;left: 50%;z-index: -1;}#sk-container-id-1 div.sk-parallel-item {display: flex;flex-direction: column;z-index: 1;position: relative;background-color: white;}#sk-container-id-1 div.sk-parallel-item:first-child::after {align-self: flex-end;width: 50%;}#sk-container-id-1 div.sk-parallel-item:last-child::after {align-self: flex-start;width: 50%;}#sk-container-id-1 div.sk-parallel-item:only-child::after {width: 0;}#sk-container-id-1 div.sk-dashed-wrapped {border: 1px dashed gray;margin: 0 0.4em 0.5em 0.4em;box-sizing: border-box;padding-bottom: 0.4em;background-color: white;}#sk-container-id-1 div.sk-label label {font-family: monospace;font-weight: bold;display: inline-block;line-height: 1.2em;}#sk-container-id-1 div.sk-label-container {text-align: center;}#sk-container-id-1 div.sk-container {/* jupyter's `normalize.less` sets `[hidden] { display: none; }` but bootstrap.min.css set `[hidden] { display: none !important; }` so we also need the `!important` here to be able to override the default hidden behavior on the sphinx rendered scikit-learn.org. See: https://github.com/scikit-learn/scikit-learn/issues/21755 */display: inline-block !important;position: relative;}#sk-container-id-1 div.sk-text-repr-fallback {display: none;}</style><div id=\"sk-container-id-1\" class=\"sk-top-container\"><div class=\"sk-text-repr-fallback\"><pre>NearestCentroid(metric=&#x27;manhattan&#x27;)</pre><b>In a Jupyter environment, please rerun this cell to show the HTML representation or trust the notebook. <br />On GitHub, the HTML representation is unable to render, please try loading this page with nbviewer.org.</b></div><div class=\"sk-container\" hidden><div class=\"sk-item\"><div class=\"sk-estimator sk-toggleable\"><input class=\"sk-toggleable__control sk-hidden--visually\" id=\"sk-estimator-id-1\" type=\"checkbox\" checked><label for=\"sk-estimator-id-1\" class=\"sk-toggleable__label sk-toggleable__label-arrow\">NearestCentroid</label><div class=\"sk-toggleable__content\"><pre>NearestCentroid(metric=&#x27;manhattan&#x27;)</pre></div></div></div></div></div>"
      ],
      "text/plain": [
       "NearestCentroid(metric='manhattan')"
      ]
     },
     "execution_count": 18,
     "metadata": {},
     "output_type": "execute_result"
    }
   ],
   "source": [
    "clf.fit(train_embeddings, train['isHate'])"
   ]
  },
  {
   "cell_type": "code",
   "execution_count": 19,
   "id": "5a4047aa-a036-4296-a839-fae5693a1bb3",
   "metadata": {},
   "outputs": [
    {
     "name": "stdout",
     "output_type": "stream",
     "text": [
      "huggingface/tokenizers: The current process just got forked, after parallelism has already been used. Disabling parallelism to avoid deadlocks...\n",
      "To disable this warning, you can either:\n",
      "\t- Avoid using `tokenizers` before the fork if possible\n",
      "\t- Explicitly set the environment variable TOKENIZERS_PARALLELISM=(true | false)\n"
     ]
    },
    {
     "data": {
      "text/plain": [
       "0.7375249500998003"
      ]
     },
     "execution_count": 19,
     "metadata": {},
     "output_type": "execute_result"
    }
   ],
   "source": [
    "roc_auc_score(test['isHate'], clf.predict(test_embeddings))"
   ]
  },
  {
   "cell_type": "code",
   "execution_count": null,
   "id": "4b6c1958-d67b-40f1-abae-a0e8a090214f",
   "metadata": {},
   "outputs": [],
   "source": []
  }
 ],
 "metadata": {
  "kernelspec": {
   "display_name": "Python 3 (ipykernel)",
   "language": "python",
   "name": "python3"
  },
  "language_info": {
   "codemirror_mode": {
    "name": "ipython",
    "version": 3
   },
   "file_extension": ".py",
   "mimetype": "text/x-python",
   "name": "python",
   "nbconvert_exporter": "python",
   "pygments_lexer": "ipython3",
   "version": "3.9.16"
  }
 },
 "nbformat": 4,
 "nbformat_minor": 5
}
